{
 "cells": [
  {
   "cell_type": "markdown",
   "metadata": {},
   "source": [
    "# Question 4 hypothesis test\n",
    "\n",
    "You are provided with a data set called __iData.csv__ containing information on births recorded in a particular state. Here is a dictionary on the variables included:\n",
    "\n",
    "fage: father’s age in years. \n",
    "\n",
    "mage: mother’s age in years.\n",
    "\n",
    "mature: maturity status of mother.\n",
    "\n",
    "weeks: length of pregnancy in weeks.\n",
    "\n",
    "premie: whether the birth was classified as premature (premie) or full-term.\n",
    "\n",
    "visits: number of hospital visits during pregnancy.\n",
    "\n",
    "marital: whether mother is married or not married at birth.\n",
    "\n",
    "gained: weight gained by mother during pregnancy in pounds.\n",
    "\n",
    "weight: weight of the baby at birth in pounds.\n",
    "\n",
    "lowbirthweight: whether baby was classified as low birthweight (low) or not (not low).\n",
    "\n",
    "gender: gender of the baby, female or male.\n",
    "\n",
    "habit: status of the mother as a nonsmoker or a smoker.\n",
    "\n",
    "whitemom: whether mom is white or not white.\n",
    "\n",
    "\n",
    "__Total marks 15__. Each sub-question a, b, c worths 5 marks."
   ]
  },
  {
   "cell_type": "code",
   "execution_count": 1,
   "metadata": {},
   "outputs": [
    {
     "name": "stderr",
     "output_type": "stream",
     "text": [
      "\n",
      "Attaching package: ‘dplyr’\n",
      "\n",
      "The following objects are masked from ‘package:stats’:\n",
      "\n",
      "    filter, lag\n",
      "\n",
      "The following objects are masked from ‘package:base’:\n",
      "\n",
      "    intersect, setdiff, setequal, union\n",
      "\n"
     ]
    }
   ],
   "source": [
    "library(dplyr)\n",
    "library(e1071)"
   ]
  },
  {
   "cell_type": "markdown",
   "metadata": {},
   "source": [
    "a) It is claimed that mothers' smoking habit does not have any effect on the birth weight of the babies. To verity this claim, you need to complete the following tasks: \n",
    "a.1. Construct a significance test, by writing a null hypothesis, and an alternative hypothesis,"
   ]
  },
  {
   "cell_type": "markdown",
   "metadata": {},
   "source": [
    "Since the claim is that mothers' smoking habit does <font color='blue'> not</font> have any effect on the birth weight of the babies and we want to reject our hypothesis, we set $H0$ sentence structure to negates the claim\n",
    "\n",
    "$H0$: smoking habit <font color='red'>has</font> impact on the birth weight of the babies.\n",
    "\n",
    "$H1$: smoking habit does not have impact on the birth weight of the babies."
   ]
  },
  {
   "cell_type": "markdown",
   "metadata": {},
   "source": [
    "### a.2. perform the test using an appropriate R function,"
   ]
  },
  {
   "cell_type": "code",
   "execution_count": 26,
   "metadata": {},
   "outputs": [
    {
     "name": "stdout",
     "output_type": "stream",
     "text": [
      "There are  716  nonsmoker moms and  84  smoker moms, which makes to  800 rows of data, based on the dataset.\n",
      "\n",
      "The average weight of babies born from nonsmoker mom is equal to: -->  7.24676 \n",
      "\n",
      "The average weight of babies born from smoker mom is equal to: -->  6.886429 \n",
      "\n"
     ]
    }
   ],
   "source": [
    "# Note: Based on Kelvin's comment on Moodle, I deleted the last 3 rows before reading the data into Jupyter\n",
    "\n",
    "MyData <- read.table(file=\"iData.csv\", header=TRUE, fill=TRUE,sep=\",\")\n",
    "\n",
    "# selecting the habit and weigth columns only\n",
    "smoking <- MyData %>%\n",
    "  select(\"habit\",\"weight\")\n",
    "\n",
    "# selecting rows which habit is equal to nonsmoker\n",
    "nonsmoker <- smoking[smoking$habit == \"nonsmoker\",]\n",
    "\n",
    "# selecting rows which habit is equal to smoker\n",
    "smoker <- smoking[smoking$habit == \"smoker\",]\n",
    "\n",
    "# Printing results:\n",
    "cat(\"There are \", \n",
    "    nrow(nonsmoker), \n",
    "   \" nonsmoker moms and \",\n",
    "   nrow(smoker),\n",
    "   \" smoker moms, which makes to \",\n",
    "    nrow(nonsmoker) + nrow(smoker),\n",
    "    \"rows of data, based on the dataset.\\n\\n\")\n",
    "cat(\"The average weight of babies born from nonsmoker mom is equal to: --> \", mean(nonsmoker$weight),\"\\n\\n\")\n",
    "cat(\"The average weight of babies born from smoker mom is equal to: --> \", mean(smoker$weight),\"\\n\\n\")"
   ]
  },
  {
   "cell_type": "code",
   "execution_count": 16,
   "metadata": {},
   "outputs": [
    {
     "data": {
      "text/plain": [
       "\n",
       "\tWelch Two Sample t-test\n",
       "\n",
       "data:  nonsmoker$weight and smoker$weigh\n",
       "t = 2.3625, df = 108.54, p-value = 0.01994\n",
       "alternative hypothesis: true difference in means is not equal to 0\n",
       "95 percent confidence interval:\n",
       " 0.05801978 0.66264264\n",
       "sample estimates:\n",
       "mean of x mean of y \n",
       " 7.246760  6.886429 \n"
      ]
     },
     "metadata": {},
     "output_type": "display_data"
    }
   ],
   "source": [
    "# I used Welch independent 2-group t-test\n",
    "\n",
    "# This is testing if the two means are equal.\n",
    "\n",
    "# If they are not equal --> Our cannot reject that smoking has impact on babies weight\n",
    "\n",
    "t.test(nonsmoker$weight,smoker$weigh)"
   ]
  },
  {
   "cell_type": "markdown",
   "metadata": {},
   "source": [
    "### a.3. Make a conclusion and explain your findings."
   ]
  },
  {
   "cell_type": "markdown",
   "metadata": {},
   "source": [
    "#### p-value = 0.01994 --> result of t-test is that the two means are significantly different\n",
    "\n",
    "Considering that P-value is way less than 0.05, we conclude that the average weight of children whose mom are smoker <font color='blue'>significantly differs</font> (lower) from the average of  children whose mom are not smoker.\n",
    "\n",
    "#### Considering that:\n",
    "There are  716  nonsmoker moms and  84  smoker moms, which makes to  800 rows of data, based on the dataset.\n",
    "\n",
    "The average weight of babies born from nonsmoker mom is equal to: -->  7.24676 \n",
    "\n",
    "The average weight of babies born from smoker mom is equal to: -->  6.886429\n",
    "\n",
    "# <font color='orange'>Findings</font>\n",
    "As a result, we <font color='orange'>cannot reject</font> $H0$. We also do not accept $H1$ which was the claim mentioned in part a of the question.\n",
    "\n",
    "Furthermore, since my code (t.test(nonsmoker$weight,smoker$weigh)) is testing if the two means are equal assuming that they are equal, and in results we see \"alternative hypothesis: true difference in means is not equal to 0\", we understand that they are not same and significantly different and again we cannot reject H0.\n",
    "\n",
    "We witness that data of non-smoker moms are more accurate (because of having higher number of samples) than those of smoker moms (716 vs 84). I argue that we have to gather further data on the babies with smoker moms and run the analysis further to find more reliable interpretations.\n",
    "\n"
   ]
  },
  {
   "cell_type": "markdown",
   "metadata": {},
   "source": [
    "## b) Calculate a 99% confidence interval for the average length of pregnancies."
   ]
  },
  {
   "cell_type": "code",
   "execution_count": 27,
   "metadata": {},
   "outputs": [
    {
     "name": "stdout",
     "output_type": "stream",
     "text": [
      "Xbar is equal to :  38.4675  \n",
      "\n",
      "There are  800  number of rows in the data \n",
      "\n",
      "Standard Deviation is equal to :  2.753802"
     ]
    }
   ],
   "source": [
    "# At the first step, I need to find the following variables\n",
    "\n",
    "# xmean <- mean(MyData$weeks)\n",
    "cat(\"Xbar is equal to : \",xmean, \" \\n\\nThere are \",nrow(MyData),\" number of rows in the data \\n\\n\")\n",
    "\n",
    "MyData$weekspower2 <- MyData$weeks^2\n",
    "\n",
    "#sum(x^2)\n",
    "sumpower <- sum(MyData$weekspower2)\n",
    "\n",
    "#times(xmean)^2\n",
    "xmeantimes <- (nrow(MyData))*(xmean^2)\n",
    "\n",
    "s2 <- (sumpower-xmeantimes)/(nrow(MyData)-1)\n",
    "s <- sqrt(s2)\n",
    "cat(\"Standard Deviation is equal to : \",s)\n",
    "\n",
    "# results are as follow:"
   ]
  },
  {
   "cell_type": "code",
   "execution_count": 28,
   "metadata": {},
   "outputs": [
    {
     "name": "stdout",
     "output_type": "stream",
     "text": [
      "Standard Error is equal to --->  0.2508035  \n",
      "\n",
      "The lower CI of the sample is equal to --->  38.2167  \n",
      "\n",
      "The upper CI of the sample is equal to --->  38.7183  \n",
      "\n",
      "In other words, 99% confidence interval is equal to  ---> ( 38.2167 , 38.7183 ) \n",
      "\n"
     ]
    }
   ],
   "source": [
    "# In this section, I ran two methods to find Standard Error\n",
    "# but  for reporting, I used method 2 to find Standard Error\n",
    "\n",
    "# Method 1:\n",
    "# Using qt function to calculate z-score\n",
    "\n",
    "# z <- ((qt(0.995,df=(nrow(MyData))-1)))\n",
    "# z = 2.58199654249689 <---- RESULT of qt function to find z score\n",
    "\n",
    "# based on the qt function, I calculated Standard Error\n",
    "\n",
    "# Standard Error using qt function in R <- ((qt(0.99,df=(nrow(MyData))-1))*s/(sqrt(nrow(MyData))))\n",
    "# Standard Error = 0.226952200211327 <---- RESULT of  standard error by using qt function to find z score\n",
    "\n",
    "\n",
    "# Method 2:\n",
    "\n",
    "# I used the commonly used table which defines z equal to 2.576\n",
    "\n",
    "se <- (2.576*s/(sqrt(nrow(MyData)))) # Z is equal 2.576 to Based on commonly used table\n",
    "cat(\"Standard Error is equal to ---> \",se,\" \\n\\n\")\n",
    "\n",
    "cat(\"The lower CI of the sample is equal to ---> \" ,(xmean - (2.576*s/(sqrt(nrow(MyData))))),  \" \\n\\n\") \n",
    "cat(\"The upper CI of the sample is equal to ---> \",(xmean + (2.576*s/(sqrt(nrow(MyData))))),\" \\n\\n\")\n",
    "\n",
    "cat(\"In other words, 99% confidence interval is equal to  ---> (\",(xmean - (2.576*s/(sqrt(nrow(MyData))))),\",\",(xmean + (2.576*s/(sqrt(nrow(MyData))))),\") \\n\\n\")\n",
    "\n",
    "# Result of 99% confidence interval"
   ]
  },
  {
   "cell_type": "markdown",
   "metadata": {},
   "source": [
    "## c) Conduct a hypothesis test evaluating whether the average weight gained is different from 30. Make a conclusion and explain your findings. "
   ]
  },
  {
   "cell_type": "markdown",
   "metadata": {},
   "source": [
    "$H0$: the average weight gained is not different from 30\n",
    "\n",
    "$H1$: the average weight gained is  different from 30"
   ]
  },
  {
   "cell_type": "code",
   "execution_count": 29,
   "metadata": {},
   "outputs": [
    {
     "data": {
      "text/plain": [
       "\n",
       "\tOne Sample t-test\n",
       "\n",
       "data:  w_gained$gained\n",
       "t = 1.5538, df = 799, p-value = 0.1206\n",
       "alternative hypothesis: true mean is not equal to 30\n",
       "95 percent confidence interval:\n",
       " 29.7966 31.7484\n",
       "sample estimates:\n",
       "mean of x \n",
       "  30.7725 \n"
      ]
     },
     "metadata": {},
     "output_type": "display_data"
    },
    {
     "data": {
      "text/plain": [
       "\n",
       "\tOne Sample t-test\n",
       "\n",
       "data:  w_gained$gained\n",
       "t = 1.5538, df = 799, p-value = 0.9397\n",
       "alternative hypothesis: true mean is less than 30\n",
       "95 percent confidence interval:\n",
       "     -Inf 31.59121\n",
       "sample estimates:\n",
       "mean of x \n",
       "  30.7725 \n"
      ]
     },
     "metadata": {},
     "output_type": "display_data"
    },
    {
     "data": {
      "text/plain": [
       "\n",
       "\tOne Sample t-test\n",
       "\n",
       "data:  w_gained$gained\n",
       "t = 1.5538, df = 799, p-value = 0.06031\n",
       "alternative hypothesis: true mean is greater than 30\n",
       "95 percent confidence interval:\n",
       " 29.95379      Inf\n",
       "sample estimates:\n",
       "mean of x \n",
       "  30.7725 \n"
      ]
     },
     "metadata": {},
     "output_type": "display_data"
    }
   ],
   "source": [
    "w_gained <- MyData %>%\n",
    "  select(\"gained\")\n",
    "\n",
    "# Testing the average weight gained by moms against hypothesized value\n",
    "# hypothesized value >> mu0 = 30\n",
    "t.test(w_gained$gained, mu = 30)\n",
    "t.test(w_gained$gained, mu = 30, alternative = \"less\")\n",
    "t.test(w_gained$gained, mu = 30, alternative = \"greater\")"
   ]
  },
  {
   "cell_type": "markdown",
   "metadata": {},
   "source": [
    "# Findings\n",
    "\n",
    "To achieve a complete result, in testing if the avg gained weight is significantly different from 30, \n",
    "\n",
    "I tested with a normal t.test without any distribution transformations and ran the test three times:\n",
    "\n",
    "### Hypothesis testing\n",
    "1. if they are equal. \n",
    "Finding: p-value = 0.1206 (> .05) shows that they are not equal and as a result supporting the alternative hypothesis that the average weight gained is  different from 30.\n",
    "\n",
    "### For further discoveries, I wanted to understand how different they are. So I tested:\n",
    "2. if the average is less than 30.\n",
    "Findings: p-value = 0.9397 (> .05) shows that average weight is not less than 30.\n",
    "\n",
    "3. if the average is greater than 30.\n",
    "Findings: p-value = 0.06031 ( slightly more than .05). So I check the sample estimates which indicates that mean of x = 30.7725\n",
    "\n",
    "So I reject $H0$."
   ]
  },
  {
   "cell_type": "code",
   "execution_count": null,
   "metadata": {},
   "outputs": [],
   "source": []
  }
 ],
 "metadata": {
  "kernelspec": {
   "display_name": "R",
   "language": "R",
   "name": "ir"
  },
  "language_info": {
   "codemirror_mode": "r",
   "file_extension": ".r",
   "mimetype": "text/x-r-source",
   "name": "R",
   "pygments_lexer": "r",
   "version": "3.6.1"
  }
 },
 "nbformat": 4,
 "nbformat_minor": 2
}
